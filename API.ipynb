{
 "cells": [
  {
   "cell_type": "markdown",
   "id": "cb8df8f4-89ed-4b64-a67c-3db0f69eff94",
   "metadata": {},
   "source": [
    "1 What is an API? Give an example, where an API is used in real life.\n",
    "APIs are mechanisms that enable two software components to communicate with each other using a set of definitions and protocols. For example, the weather bureau's software system contains daily weather data. The weather app on your phone “talks” to this system via APIs and shows you daily weather updates on your phone\n",
    "Weather data is a popular API example that we come across regularly. Rich weather snippets appear ubiquitous, appearing on all platforms such as Google Search, Apple's Weather app, and even your smart home device."
   ]
  },
  {
   "cell_type": "markdown",
   "id": "3c5e0d0f-ed74-45af-b9d6-c3c49b90019c",
   "metadata": {},
   "source": [
    "2 Give advantages and disadvantages of using API?\n",
    "Advantages\n",
    "Efficiency: When you have content that is automatically published and made available on different channels simultaneously, APIs allow for more efficient data distribution. Adaptability: One of the greatest benefits of APIs is the ability it has to adapt to changes through data migration and flexibility of services.\n",
    "Disadvantages\n",
    "As a single point of entry, an API is a gateway and can become a hacker's primary target. Once the API is compromised, all other applications and systems become vulnerable"
   ]
  },
  {
   "cell_type": "markdown",
   "id": "d9199b52-04fc-429b-8896-03e690c213d6",
   "metadata": {},
   "source": [
    "3 What is a Web API? Differentiate between API and Web API?\n",
    "A Web API is an application programming interface for the Web. A Browser API can extend the functionality of a web browser. A Server API can extend the functionality of a web server\n",
    "API is an interface that exposes an application's data to outside software, whereas web applications are one type of API with stricter requirements."
   ]
  },
  {
   "cell_type": "markdown",
   "id": "fb37c52d-6191-4dce-8597-5d847607c90e",
   "metadata": {},
   "source": [
    "4 Explain REST and SOAP Architecture. Mention shortcomings of SOAP.\n",
    "rest representational state transfer uses http protocol\n",
    "soap simple object access protocol  user tcp/smtp protocol\n",
    "rest is simple, scalable and flexible than soap to use\n",
    "if data provicy is concerned use soap as it provides security\n",
    "soap transfer data in xml format"
   ]
  },
  {
   "cell_type": "markdown",
   "id": "e16fa00b-4408-4d3e-a4b5-6886c4a84241",
   "metadata": {},
   "source": [
    "5 Differentiate between REST and SOAP.\n",
    "rest representational state transfer uses http protocol\n",
    "soap simple object access protocol  user tcp/smtp protocol\n",
    "rest is simple, scalable and flexible than soap to use\n",
    "if data provicy is concerned use soap as it provides security\n",
    "soap transfer data in xml format"
   ]
  },
  {
   "cell_type": "code",
   "execution_count": null,
   "id": "b390a175-2e8d-4100-b2a4-d4994e98f22b",
   "metadata": {},
   "outputs": [],
   "source": []
  }
 ],
 "metadata": {
  "kernelspec": {
   "display_name": "Python 3 (ipykernel)",
   "language": "python",
   "name": "python3"
  },
  "language_info": {
   "codemirror_mode": {
    "name": "ipython",
    "version": 3
   },
   "file_extension": ".py",
   "mimetype": "text/x-python",
   "name": "python",
   "nbconvert_exporter": "python",
   "pygments_lexer": "ipython3",
   "version": "3.10.8"
  }
 },
 "nbformat": 4,
 "nbformat_minor": 5
}
